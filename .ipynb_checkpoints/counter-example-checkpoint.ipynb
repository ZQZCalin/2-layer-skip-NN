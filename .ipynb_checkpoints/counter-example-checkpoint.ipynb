{
 "cells": [
  {
   "cell_type": "code",
   "execution_count": 78,
   "metadata": {},
   "outputs": [],
   "source": [
    "import numpy as np\n",
    "from matplotlib import pyplot as plt\n",
    "import torch\n",
    "from torch import nn, optim, Tensor\n",
    "from torch.utils.data import DataLoader, TensorDataset\n",
    "from torchsummary import summary"
   ]
  },
  {
   "cell_type": "markdown",
   "metadata": {},
   "source": [
    "### 1. Target Function and Data Generation\n",
    "Consider some target function $f:\\mathbb{R}\\to\\mathbb{R}$, and a compact domain $D\\subset \\mathbb{R}$. Let $p_x$ be the uniform distribution over $D$. We then generate data $(x,y)$ such that $x\\sim p_x$ and $y=f(x)$."
   ]
  },
  {
   "cell_type": "code",
   "execution_count": 2,
   "metadata": {},
   "outputs": [
    {
     "data": {
      "image/png": "[encoded data removed]",
      "text/plain": [
       "<Figure size 432x288 with 1 Axes>"
      ]
     },
     "metadata": {
      "needs_background": "light"
     },
     "output_type": "display_data"
    }
   ],
   "source": [
    "# DATA GENERATION\n",
    "\n",
    "# hyperparameters\n",
    "np.random.seed(0)\n",
    "N = 10**4\n",
    "low = -6\n",
    "high = 6\n",
    "params = [0.5, 0, -3.5, -0.5, 1, -3]\n",
    "\n",
    "# define target function\n",
    "def quadratic(x, _params):\n",
    "    [a, b, c] = _params\n",
    "    return (a*x+b)**2 + c\n",
    "\n",
    "def target(x):\n",
    "    [a1, b1, c1, a2, b2, c2] = params\n",
    "    h = quadratic(x, [a1,b1,c1])\n",
    "    return quadratic( h, [a2,b2,c2] ) + h\n",
    "\n",
    "# training data\n",
    "X = np.random.uniform(low, high, N)\n",
    "Y = np.vectorize(target)(X)\n",
    "\n",
    "# transform to tensor and reshape\n",
    "X_tensor = torch.reshape(Tensor(X),(N,1))\n",
    "y_tensor = torch.reshape(Tensor(Y),(N,1))\n",
    "\n",
    "# visualize\n",
    "plt.scatter(X, Y, marker=\".\")\n",
    "plt.show()"
   ]
  },
  {
   "cell_type": "markdown",
   "metadata": {},
   "source": [
    "Some graphical intuitions for hyperparameters:\n",
    "https://www.desmos.com/calculator/pc0szofbfh."
   ]
  },
  {
   "cell_type": "markdown",
   "metadata": {},
   "source": [
    "### 1.5. Training, testing & model selection"
   ]
  },
  {
   "cell_type": "code",
   "execution_count": 3,
   "metadata": {},
   "outputs": [],
   "source": [
    "# TRAINING\n",
    "def train_model(model, epochs=50, batch_size=64, \n",
    "                loss_fn=nn.MSELoss(), optim=optim.Adam, optim_params=None, verbose=False):\n",
    "    # load data\n",
    "    dataset = TensorDataset(X_tensor, y_tensor)\n",
    "    data_loader = DataLoader(dataset, batch_size=batch_size, shuffle=True)\n",
    "    \n",
    "    # optimizer\n",
    "    if optim_params != None:\n",
    "        optimizer = optim(model.parameters(), **optim_params)\n",
    "    else:\n",
    "        optimizer = optim(model.parameters())\n",
    "    \n",
    "    # train\n",
    "    for t in range(epochs):\n",
    "        for (i, (X_batch, y_batch)) in enumerate(data_loader):\n",
    "            # forward\n",
    "            pred = model(X_batch.float())\n",
    "            loss = loss_fn(pred, y_batch)\n",
    "\n",
    "            # backward\n",
    "            optimizer.zero_grad()  # clear gradient\n",
    "            loss.backward()\n",
    "            optimizer.step()\n",
    "\n",
    "        if verbose and t%10 == 0:\n",
    "            print(f\"\\nEpoch: {t+1:n}\")\n",
    "            print(f\"loss={loss:.3f}\")\n",
    "            print(\"_\"*50)"
   ]
  },
  {
   "cell_type": "code",
   "execution_count": 4,
   "metadata": {},
   "outputs": [
    {
     "name": "stdout",
     "output_type": "stream",
     "text": [
      "(10000, 1)\n"
     ]
    }
   ],
   "source": [
    "print(X[:,None].shape)"
   ]
  },
  {
   "cell_type": "code",
   "execution_count": 5,
   "metadata": {},
   "outputs": [],
   "source": [
    "# TEST MODEL\n",
    "def test_model(model):\n",
    "    params = [p.item() for p in model.parameters()]\n",
    "    print(params)\n",
    "\n",
    "    y_pred = model(X_tensor).detach().numpy()  # shape (N,1)\n",
    "    total = np.concatenate((X[:,None],Y[:,None],y_pred), axis=1)  # broadcast X,Y to (N,1)\n",
    "    total = total[total[:,0].argsort()]\n",
    "  \n",
    "    plt.plot(total[:,0], total[:,1], color=\"red\", label=\"prediction\", linewidth=3, alpha=0.7)\n",
    "    plt.plot(total[:,0], total[:,2], color=\"blue\", label=\"true label\", linewidth=3, alpha=0.7)\n",
    "#     plt.scatter(X, y_pred, color=\"red\", label=\"prediction\", s=2, alpha=0.5)\n",
    "#     plt.scatter(X, Y, color=\"blue\", label=\"true label\", s=2, alpha=1)\n",
    "    plt.legend()\n",
    "    plt.show()"
   ]
  },
  {
   "cell_type": "code",
   "execution_count": null,
   "metadata": {},
   "outputs": [],
   "source": []
  },
  {
   "cell_type": "markdown",
   "metadata": {},
   "source": [
    "### 2. Freeze-and-train Model (linear + quadratic + linear per layer)"
   ]
  },
  {
   "cell_type": "code",
   "execution_count": 6,
   "metadata": {},
   "outputs": [],
   "source": [
    "# nn.Sequential wrapper\n",
    "class Lambda(nn.Module):\n",
    "    \"\"\"\n",
    "    Input: A Function\n",
    "    Returns : A Module that can be used inside nn.Sequential\n",
    "    \"\"\"\n",
    "    def __init__(self, func):\n",
    "        super().__init__()\n",
    "        self.func = func\n",
    "\n",
    "    def forward(self, x): \n",
    "        return self.func(x)"
   ]
  },
  {
   "cell_type": "code",
   "execution_count": 84,
   "metadata": {},
   "outputs": [],
   "source": [
    "# FIRST LAYER STRUCTURE\n",
    "def quad_activation(x):\n",
    "    return x**2\n",
    "\n",
    "# first_layer\n",
    "class first_layer_model(nn.Module):\n",
    "    def __init__(self):\n",
    "        super().__init__()\n",
    "        self.sequential = nn.Sequential(\n",
    "            nn.Linear(1, 1),  # x -> ax+b\n",
    "            Lambda(quad_activation),  # (ax+b)^2\n",
    "            nn.Linear(1, 1),  # k(ax+b)^2+c\n",
    "        )\n",
    "        \n",
    "    def forward(self, x):\n",
    "        return self.sequential(x)"
   ]
  },
  {
   "cell_type": "code",
   "execution_count": 86,
   "metadata": {},
   "outputs": [
    {
     "name": "stdout",
     "output_type": "stream",
     "text": [
      "----------------------------------------------------------------\n",
      "        Layer (type)               Output Shape         Param #\n",
      "================================================================\n",
      "            Linear-1             [-1, 10000, 1]               2\n",
      "            Lambda-2             [-1, 10000, 1]               0\n",
      "            Linear-3             [-1, 10000, 1]               2\n",
      "================================================================\n",
      "Total params: 4\n",
      "Trainable params: 4\n",
      "Non-trainable params: 0\n",
      "----------------------------------------------------------------\n",
      "Input size (MB): 0.04\n",
      "Forward/backward pass size (MB): 0.23\n",
      "Params size (MB): 0.00\n",
      "Estimated Total Size (MB): 0.27\n",
      "----------------------------------------------------------------\n"
     ]
    }
   ],
   "source": [
    "# TRAIN FIRST LAYER\n",
    "first_layer = first_layer_model()\n",
    "summary(first_layer, (10000, 1))\n",
    "\n",
    "train_model(first_layer, optim_params={'lr': 1e-3})"
   ]
  },
  {
   "cell_type": "code",
   "execution_count": 87,
   "metadata": {},
   "outputs": [
    {
     "name": "stdout",
     "output_type": "stream",
     "text": [
      "[0.21392838656902313, -1.4432562589645386, -0.40650057792663574, 1.410660982131958]\n"
     ]
    },
    {
     "data": {
      "image/png": "[encoded data removed]",
      "text/plain": [
       "<Figure size 432x288 with 1 Axes>"
      ]
     },
     "metadata": {
      "needs_background": "light"
     },
     "output_type": "display_data"
    }
   ],
   "source": [
    "# FIRST LAYLER RESULT\n",
    "test_model(first_layer)"
   ]
  },
  {
   "cell_type": "code",
   "execution_count": 93,
   "metadata": {},
   "outputs": [],
   "source": [
    "# SECOND LAYER MODEL\n",
    "# set requires_grad = False to freeze previous layer\n",
    "class second_layer_model(nn.Module):\n",
    "    def __init__(self, prev_layer):\n",
    "        super().__init__()\n",
    "        self.prev_layer = prev_layer\n",
    "        for p in self.prev_layer.parameters():\n",
    "            p.requires_grad = False\n",
    "        \n",
    "        self.sequential = nn.Sequential(\n",
    "            Lambda(self.prev_layer),  # predict a first layer using already trained first-layer model\n",
    "            nn.Linear(1, 1),  # x -> ax+b\n",
    "            Lambda(quad_activation),  # (ax+b)^2\n",
    "            nn.Linear(1, 1),  # k(ax+b)^2+c\n",
    "        )\n",
    "    \n",
    "    def forward(self, x):\n",
    "        return self.sequential(x) + self.prev_layer(x)"
   ]
  },
  {
   "cell_type": "code",
   "execution_count": 95,
   "metadata": {},
   "outputs": [
    {
     "name": "stdout",
     "output_type": "stream",
     "text": [
      "----------------------------------------------------------------\n",
      "        Layer (type)               Output Shape         Param #\n",
      "================================================================\n",
      "            Linear-1             [-1, 10000, 1]               2\n",
      "            Linear-2             [-1, 10000, 1]               2\n",
      "            Lambda-3             [-1, 10000, 1]               0\n",
      "            Lambda-4             [-1, 10000, 1]               0\n",
      "            Linear-5             [-1, 10000, 1]               2\n",
      "            Linear-6             [-1, 10000, 1]               2\n",
      " first_layer_model-7             [-1, 10000, 1]               0\n",
      " first_layer_model-8             [-1, 10000, 1]               0\n",
      "            Lambda-9             [-1, 10000, 1]               0\n",
      "           Linear-10             [-1, 10000, 1]               2\n",
      "           Lambda-11             [-1, 10000, 1]               0\n",
      "           Linear-12             [-1, 10000, 1]               2\n",
      "           Linear-13             [-1, 10000, 1]               2\n",
      "           Linear-14             [-1, 10000, 1]               2\n",
      "           Lambda-15             [-1, 10000, 1]               0\n",
      "           Lambda-16             [-1, 10000, 1]               0\n",
      "           Linear-17             [-1, 10000, 1]               2\n",
      "           Linear-18             [-1, 10000, 1]               2\n",
      "first_layer_model-19             [-1, 10000, 1]               0\n",
      "first_layer_model-20             [-1, 10000, 1]               0\n",
      "================================================================\n",
      "Total params: 20\n",
      "Trainable params: 4\n",
      "Non-trainable params: 16\n",
      "----------------------------------------------------------------\n",
      "Input size (MB): 0.04\n",
      "Forward/backward pass size (MB): 1.53\n",
      "Params size (MB): 0.00\n",
      "Estimated Total Size (MB): 1.56\n",
      "----------------------------------------------------------------\n"
     ]
    }
   ],
   "source": [
    "second_layer = second_layer_model(first_layer)\n",
    "summary(second_layer, (N,1))\n",
    "\n",
    "train_model(second_layer)"
   ]
  },
  {
   "cell_type": "code",
   "execution_count": 96,
   "metadata": {},
   "outputs": [
    {
     "name": "stdout",
     "output_type": "stream",
     "text": [
      "[0.21392838656902313, -1.4432562589645386, -0.40650057792663574, 1.410660982131958, -2.161085844039917, 0.33137884736061096, 1.7556577920913696, -2.0246989727020264]\n"
     ]
    },
    {
     "data": {
      "image/png": "[encoded data removed]",
      "text/plain": [
       "<Figure size 432x288 with 1 Axes>"
      ]
     },
     "metadata": {
      "needs_background": "light"
     },
     "output_type": "display_data"
    }
   ],
   "source": [
    "test_model(second_layer)"
   ]
  },
  {
   "cell_type": "markdown",
   "metadata": {},
   "source": [
    "### 3. Comparison test: complete 2-layer NN\n",
    "To serve as a comparison, compare the previous freeze-and-train method with the following standard structure:\n",
    "\n",
    "*To implement correctly a skip connection, refer to [implementation](https://github.com/pytorch/vision/blob/a9a8220e0bcb4ce66a733f8c03a1c2f6c68d22cb/torchvision/models/resnet.py#L56-L72)*"
   ]
  },
  {
   "cell_type": "code",
   "execution_count": 13,
   "metadata": {},
   "outputs": [],
   "source": [
    "# COMPLETE 2 LAYER NETWORK\n",
    "class complete_network_model(nn.Module):\n",
    "    def __init__(self):\n",
    "        super().__init__()\n",
    "#         self.sequential = nn.Sequential(\n",
    "#             nn.Linear(1, 1),  # x -> ax+b\n",
    "#             Lambda(quad_activation),  # (ax+b)^2\n",
    "#             nn.Linear(1, 1),  # k(ax+b)^2+c\n",
    "#             Lambda(quad_activation),\n",
    "#             nn.Linear(1, 1),\n",
    "#         )\n",
    "        self.linear1 = nn.Linear(1, 1)\n",
    "        self.linear2 = nn.Linear(1, 1)\n",
    "        self.linear3 = nn.Linear(1, 1)\n",
    "        self.actv = Lambda(quad_activation)\n",
    "    \n",
    "    def forward(self, x):\n",
    "#         identity = x\n",
    "        \n",
    "        out = self.linear1(x)\n",
    "        out = self.actv(out)\n",
    "        out = self.linear2(out)\n",
    "        out = self.actv(out)\n",
    "        out = self.linear3(out)\n",
    "        \n",
    "        return out"
   ]
  },
  {
   "cell_type": "code",
   "execution_count": 14,
   "metadata": {},
   "outputs": [],
   "source": [
    "complete_network = complete_network_model()\n",
    "train_model(complete_network)"
   ]
  },
  {
   "cell_type": "code",
   "execution_count": 16,
   "metadata": {},
   "outputs": [
    {
     "name": "stdout",
     "output_type": "stream",
     "text": [
      "[0.5902104377746582, 8.861491096467944e-09, 0.38310855627059937, -1.8683727979660034, 0.8773003220558167, -1.9999953508377075]\n"
     ]
    },
    {
     "data": {
      "image/png": "[encoded data removed]",
      "text/plain": [
       "<Figure size 432x288 with 1 Axes>"
      ]
     },
     "metadata": {
      "needs_background": "light"
     },
     "output_type": "display_data"
    }
   ],
   "source": [
    "test_model(complete_network)"
   ]
  },
  {
   "cell_type": "markdown",
   "metadata": {},
   "source": [
    "#### Caveat:\n",
    "The test result is somehow sensitive to initialization... I tried several standard initializatons, but all of them don't seem good...\n",
    "\n",
    "This becomes a big issue because I don't know whether a poor fit is due to poor initialization or it is an actual counter exmample."
   ]
  },
  {
   "cell_type": "markdown",
   "metadata": {},
   "source": [
    "### 4. Freeze-and-train with linear+quadratic per layer\n",
    "In order to fit a general quadratic (of form $ax^2+b$), each \"layer\" is actually a linear layer + quadratic activation + another linear layer (to add the constant term). Below is an attempt to see what if we only have a linear layer with a quadratic activation. Now a perfect fit is not guaranteed."
   ]
  },
  {
   "cell_type": "code",
   "execution_count": null,
   "metadata": {},
   "outputs": [],
   "source": [
    "def black_box(model):\n",
    "    _optim = optim.Adam(model.parameters())\n",
    "    \n",
    "    train_model(model, X, Y, epochs, batch_size, loss_fn, _optim)\n",
    "    test_model(model)"
   ]
  },
  {
   "cell_type": "code",
   "execution_count": null,
   "metadata": {},
   "outputs": [],
   "source": [
    "class first_layer_partial(nn.Module):\n",
    "    def __init__(self):\n",
    "        super().__init__()\n",
    "        self.sequential = nn.Sequential(\n",
    "            nn.Linear(1, 1),  # x -> ax+b\n",
    "            Lambda(quad_activation),  # (ax+b)^2\n",
    "        )\n",
    "    \n",
    "    def forward(self, x):\n",
    "        return self.sequential(x)\n",
    "\n",
    "partial_1 = first_layer_partial()\n",
    "black_box(partial_1)"
   ]
  },
  {
   "cell_type": "code",
   "execution_count": null,
   "metadata": {},
   "outputs": [],
   "source": [
    "class second_layer_partial(nn.Module):\n",
    "    def __init__(self):\n",
    "        super().__init__()\n",
    "        self.sequential = nn.Sequential(\n",
    "            Lambda(partial_1), \n",
    "            nn.Linear(1, 1), \n",
    "            Lambda(quad_activation),\n",
    "        )\n",
    "    \n",
    "    def forward(self, x):\n",
    "        return self.sequential(x) + partial_1(x)\n",
    "\n",
    "partial_2 = second_layer_partial()\n",
    "black_box(partial_2)"
   ]
  },
  {
   "cell_type": "code",
   "execution_count": null,
   "metadata": {},
   "outputs": [],
   "source": [
    "class complete_model_partial(nn.Module):\n",
    "    def __init__(self):\n",
    "        super().__init__()\n",
    "        self.sequential = nn.Sequential(\n",
    "            nn.Linear(1, 1), \n",
    "            Lambda(quad_activation),\n",
    "            nn.Linear(1, 1),\n",
    "            Lambda(quad_activation),\n",
    "            nn.Linear(1, 1)\n",
    "        )\n",
    "    \n",
    "    def forward(self, x):\n",
    "        skip = self.sequential(x) + nn.Sequential(nn.Linear(1,1))(x)\n",
    "        normal = self.sequential(x)\n",
    "        return skip\n",
    "\n",
    "partial_3 = complete_model_partial()\n",
    "black_box(partial_3)"
   ]
  },
  {
   "cell_type": "markdown",
   "metadata": {},
   "source": [
    "### 5. Unequal Bumps\n",
    "Now we want to test another target function, which is still of W-shape, but has unequal minimums.\n",
    "[Reference](https://www.desmos.com/calculator/ouqmttfdlh)"
   ]
  },
  {
   "cell_type": "code",
   "execution_count": 40,
   "metadata": {},
   "outputs": [
    {
     "data": {
      "image/png": "[encoded data removed]",
      "text/plain": [
       "<Figure size 432x288 with 1 Axes>"
      ]
     },
     "metadata": {
      "needs_background": "light"
     },
     "output_type": "display_data"
    }
   ],
   "source": [
    "# training data\n",
    "def target(x):\n",
    "    a,b,c,d = [0.2,0.7,0,-0.3]\n",
    "    return a*x**4 + b*x**3 + c*x**2 + d*x\n",
    "\n",
    "X = np.random.uniform(-4, 2, N)\n",
    "Y = np.vectorize(target)(X)\n",
    "\n",
    "# transform to tensor and reshape\n",
    "X_tensor = torch.reshape(Tensor(X),(N,1))\n",
    "y_tensor = torch.reshape(Tensor(Y),(N,1))\n",
    "\n",
    "# visualize\n",
    "plt.scatter(X, Y, marker=\".\")\n",
    "plt.show()"
   ]
  },
  {
   "cell_type": "code",
   "execution_count": 45,
   "metadata": {},
   "outputs": [],
   "source": [
    "new_first_layer = first_layer_model()\n",
    "train_model(new_first_layer)"
   ]
  },
  {
   "cell_type": "code",
   "execution_count": 46,
   "metadata": {},
   "outputs": [
    {
     "name": "stdout",
     "output_type": "stream",
     "text": [
      "[-0.12990401685237885, 1.0812312364578247, -1.0922359228134155, 1.8818953037261963]\n"
     ]
    },
    {
     "data": {
      "image/png": "[encoded data removed]",
      "text/plain": [
       "<Figure size 432x288 with 1 Axes>"
      ]
     },
     "metadata": {
      "needs_background": "light"
     },
     "output_type": "display_data"
    }
   ],
   "source": [
    "test_model(new_first_layer)"
   ]
  },
  {
   "cell_type": "code",
   "execution_count": null,
   "metadata": {},
   "outputs": [],
   "source": []
  }
 ],
 "metadata": {
  "kernelspec": {
   "display_name": "Python 3",
   "language": "python",
   "name": "python3"
  },
  "language_info": {
   "codemirror_mode": {
    "name": "ipython",
    "version": 3
   },
   "file_extension": ".py",
   "mimetype": "text/x-python",
   "name": "python",
   "nbconvert_exporter": "python",
   "pygments_lexer": "ipython3",
   "version": "3.8.3"
  }
 },
 "nbformat": 4,
 "nbformat_minor": 4
}
