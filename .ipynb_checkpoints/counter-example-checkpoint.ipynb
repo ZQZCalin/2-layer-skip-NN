{
 "cells": [
  {
   "cell_type": "code",
   "execution_count": 1,
   "metadata": {},
   "outputs": [],
   "source": [
    "import numpy as np\n",
    "from matplotlib import pyplot as plt\n",
    "import torch\n",
    "from torch import nn, optim, Tensor\n",
    "from torch.utils.data import DataLoader, TensorDataset"
   ]
  },
  {
   "cell_type": "markdown",
   "metadata": {},
   "source": [
    "Consider some target function $f:\\mathbb{R}\\to\\mathbb{R}$, and a compact domain $D\\subset \\mathbb{R}$. Let $p_x$ be the uniform distribution over $D$. We then generate data $(x,y)$ such that $x\\sim p_x$ and $y=f(x)$."
   ]
  },
  {
   "cell_type": "code",
   "execution_count": 10,
   "metadata": {},
   "outputs": [
    {
     "data": {
      "image/png": "[encoded data removed]",
      "text/plain": [
       "<Figure size 432x288 with 1 Axes>"
      ]
     },
     "metadata": {
      "needs_background": "light"
     },
     "output_type": "display_data"
    }
   ],
   "source": [
    "# DATA GENERATION\n",
    "\n",
    "# hyperparameters\n",
    "np.random.seed(0)\n",
    "N = 10**4\n",
    "low = -6\n",
    "high = 6\n",
    "params = [0.5, 0, -3.5, -0.5, 1, -3]\n",
    "\n",
    "# define target function\n",
    "def quadratic(x, _params):\n",
    "    [a, b, c] = _params\n",
    "    return (a*x+b)**2 + c\n",
    "\n",
    "def target(x):\n",
    "    [a1, b1, c1, a2, b2, c2] = params\n",
    "    h = quadratic(x, [a1,b1,c1])\n",
    "    return quadratic( h, [a2,b2,c2] ) + h\n",
    "\n",
    "# training data\n",
    "X = np.random.uniform(low, high, N)\n",
    "Y = np.vectorize(target)(X)\n",
    "\n",
    "# transform to tensor and reshape\n",
    "X_tensor = torch.reshape(Tensor(X),(N,1))\n",
    "y_tensor = torch.reshape(Tensor(Y),(N,1))\n",
    "\n",
    "# visualize\n",
    "plt.scatter(X, Y, marker=\".\")\n",
    "plt.show()"
   ]
  },
  {
   "cell_type": "markdown",
   "metadata": {},
   "source": [
    "Some graphical intuitions for hyperparameters:\n",
    "https://www.desmos.com/calculator/pc0szofbfh."
   ]
  },
  {
   "cell_type": "code",
   "execution_count": 11,
   "metadata": {},
   "outputs": [],
   "source": [
    "# TRAINING\n",
    "def train_model(model, X, Y, epochs, batch_size, loss_fn, optimizer):\n",
    "    # load data\n",
    "    dataset = TensorDataset(X_tensor, y_tensor)\n",
    "    data_loader = DataLoader(dataset, batch_size=batch_size, shuffle=True)\n",
    "    \n",
    "    # train\n",
    "    for t in range(epochs):\n",
    "        for (i, (X_batch, y_batch)) in enumerate(data_loader):\n",
    "            # forward\n",
    "            pred = model(X_batch.float())\n",
    "            loss = loss_fn(pred, y_batch)\n",
    "\n",
    "            # backward\n",
    "            optimizer.zero_grad()  # clear gradient\n",
    "            loss.backward()\n",
    "            optimizer.step()\n",
    "\n",
    "        if t%5 == 0:\n",
    "            print(f\"\\nEpoch: {t+1:n}\")\n",
    "            print(f\"loss={loss:.3f}\")\n",
    "            print(\"_\"*50)"
   ]
  },
  {
   "cell_type": "code",
   "execution_count": 12,
   "metadata": {},
   "outputs": [],
   "source": [
    "# FIRST LAYER STRUCTURE\n",
    "\n",
    "# nn.Sequential wrapper\n",
    "class Lambda(nn.Module):\n",
    "    \"\"\"\n",
    "    Input: A Function\n",
    "    Returns : A Module that can be used inside nn.Sequential\n",
    "    \"\"\"\n",
    "    def __init__(self, func):\n",
    "        super().__init__()\n",
    "        self.func = func\n",
    "\n",
    "    def forward(self, x): \n",
    "        return self.func(x)\n",
    "    \n",
    "def quad_activation(x):\n",
    "    return x**2\n",
    "\n",
    "# first_layer\n",
    "class first_layer_model(nn.Module):\n",
    "    def __init__(self):\n",
    "        super().__init__()\n",
    "        self.sequential = nn.Sequential(\n",
    "            nn.Linear(1, 1),  # x -> ax+b\n",
    "            Lambda(quad_activation),  # (ax+b)^2\n",
    "            nn.Linear(1, 1),  # k(ax+b)^2+c\n",
    "        )\n",
    "    \n",
    "    def forward(self, x):\n",
    "        return self.sequential(x)"
   ]
  },
  {
   "cell_type": "code",
   "execution_count": 13,
   "metadata": {},
   "outputs": [],
   "source": [
    "# HYPER-PARAMETERS OF TRAINING\n",
    "first_layer = first_layer_model()\n",
    "loss_fn = nn.MSELoss()\n",
    "\n",
    "epochs = 50\n",
    "batch_size = 32"
   ]
  },
  {
   "cell_type": "code",
   "execution_count": 14,
   "metadata": {},
   "outputs": [
    {
     "name": "stdout",
     "output_type": "stream",
     "text": [
      "\n",
      "Epoch: 1\n",
      "loss=1.863\n",
      "__________________________________________________\n",
      "\n",
      "Epoch: 6\n",
      "loss=3.107\n",
      "__________________________________________________\n",
      "\n",
      "Epoch: 11\n",
      "loss=2.176\n",
      "__________________________________________________\n",
      "\n",
      "Epoch: 16\n",
      "loss=1.197\n",
      "__________________________________________________\n",
      "\n",
      "Epoch: 21\n",
      "loss=1.820\n",
      "__________________________________________________\n",
      "\n",
      "Epoch: 26\n",
      "loss=4.253\n",
      "__________________________________________________\n",
      "\n",
      "Epoch: 31\n",
      "loss=2.150\n",
      "__________________________________________________\n",
      "\n",
      "Epoch: 36\n",
      "loss=2.462\n",
      "__________________________________________________\n",
      "\n",
      "Epoch: 41\n",
      "loss=1.171\n",
      "__________________________________________________\n",
      "\n",
      "Epoch: 46\n",
      "loss=2.941\n",
      "__________________________________________________\n"
     ]
    }
   ],
   "source": [
    "# TRAIN FIRST LAYER\n",
    "optim1 = optim.Adam(first_layer.parameters())\n",
    "train_model(first_layer, X, Y, epochs, batch_size, loss_fn, optim1)"
   ]
  },
  {
   "cell_type": "code",
   "execution_count": 15,
   "metadata": {},
   "outputs": [
    {
     "name": "stdout",
     "output_type": "stream",
     "text": [
      "[0.005391188897192478, 0.939077615737915, -0.8390974402427673, 0.6102357506752014]\n"
     ]
    },
    {
     "data": {
      "image/png": "[encoded data removed]",
      "text/plain": [
       "<Figure size 432x288 with 1 Axes>"
      ]
     },
     "metadata": {
      "needs_background": "light"
     },
     "output_type": "display_data"
    }
   ],
   "source": [
    "# FIRST LAYLER RESULT\n",
    "first_layer_params = []\n",
    "for p in first_layer.parameters():\n",
    "    first_layer_params.append(p.item())\n",
    "a1,b1,a2,b2 = first_layer_params\n",
    "print(first_layer_params)\n",
    "\n",
    "y_pred = first_layer(X_tensor)\n",
    "plt.scatter(X_tensor.detach().numpy(), y_pred.detach().numpy(), color=\"red\")\n",
    "plt.scatter(X_tensor.detach().numpy(), y_tensor.detach().numpy(), color=\"blue\")\n",
    "plt.show()"
   ]
  },
  {
   "cell_type": "code",
   "execution_count": 26,
   "metadata": {},
   "outputs": [
    {
     "name": "stdout",
     "output_type": "stream",
     "text": [
      "\n",
      "Epoch: 1\n",
      "loss=2.238\n",
      "__________________________________________________\n",
      "\n",
      "Epoch: 6\n",
      "loss=3.051\n",
      "__________________________________________________\n",
      "\n",
      "Epoch: 11\n",
      "loss=2.642\n",
      "__________________________________________________\n",
      "\n",
      "Epoch: 16\n",
      "loss=3.888\n",
      "__________________________________________________\n",
      "\n",
      "Epoch: 21\n",
      "loss=2.220\n",
      "__________________________________________________\n",
      "\n",
      "Epoch: 26\n",
      "loss=3.467\n",
      "__________________________________________________\n",
      "\n",
      "Epoch: 31\n",
      "loss=2.744\n",
      "__________________________________________________\n",
      "\n",
      "Epoch: 36\n",
      "loss=3.843\n",
      "__________________________________________________\n",
      "\n",
      "Epoch: 41\n",
      "loss=4.849\n",
      "__________________________________________________\n",
      "\n",
      "Epoch: 46\n",
      "loss=2.952\n",
      "__________________________________________________\n"
     ]
    }
   ],
   "source": [
    "# train second layer\n",
    "def first_layer_predict(x):\n",
    "    return a2*(a1*x+b1)**2 + b2\n",
    "\n",
    "class second_layer(nn.Module):\n",
    "    def __init__(self):\n",
    "        super().__init__()\n",
    "        self.sequential = nn.Sequential(\n",
    "            # cannot just put model, because that will train model again\n",
    "            Lambda(first_layer_predict),  # predict a first layer using already trained first-layer model\n",
    "            nn.Linear(1, 1),  # x -> ax+b\n",
    "            Lambda(quad_activation),  # (ax+b)^2\n",
    "            nn.Linear(1, 1),  # k(ax+b)^2+c\n",
    "        )\n",
    "    \n",
    "    def forward(self, x):\n",
    "        return self.sequential(x) + first_layer_predict(x)\n",
    "    \n",
    "model2 = second_layer()\n",
    "\n",
    "for t in range(epochs):\n",
    "    for (i, (X_batch, y_batch)) in enumerate(data_loader):\n",
    "        # forward\n",
    "        pred = model2(X_batch.float())\n",
    "        loss = loss_fn(pred, y_batch)\n",
    "        \n",
    "        # backward\n",
    "        optimizer.zero_grad()  # clear gradient\n",
    "        loss.backward()\n",
    "        optimizer.step()\n",
    "    \n",
    "    if t%5 == 0:  \n",
    "        print(f\"\\nEpoch: {t+1:n}\")\n",
    "        print(f\"loss={loss:.3f}\")\n",
    "        print(\"_\"*50)"
   ]
  },
  {
   "cell_type": "code",
   "execution_count": 27,
   "metadata": {},
   "outputs": [
    {
     "name": "stdout",
     "output_type": "stream",
     "text": [
      "Parameter containing:\n",
      "tensor([[0.7856]], requires_grad=True)\n",
      "Parameter containing:\n",
      "tensor([-0.6410], requires_grad=True)\n",
      "Parameter containing:\n",
      "tensor([[0.5715]], requires_grad=True)\n",
      "Parameter containing:\n",
      "tensor([0.5041], requires_grad=True)\n"
     ]
    },
    {
     "data": {
      "image/png": "[encoded data removed]",
      "text/plain": [
       "<Figure size 432x288 with 1 Axes>"
      ]
     },
     "metadata": {
      "needs_background": "light"
     },
     "output_type": "display_data"
    }
   ],
   "source": [
    "for p in model2.parameters():\n",
    "    print(p)\n",
    "\n",
    "y_pred_final = model2(X_tensor)\n",
    "plt.scatter(X_tensor.detach().numpy(), y_pred_final.detach().numpy(), color=\"red\")\n",
    "plt.scatter(X_tensor.detach().numpy(), y_tensor.detach().numpy(), color=\"blue\")\n",
    "plt.show()"
   ]
  },
  {
   "cell_type": "markdown",
   "metadata": {},
   "source": [
    "To serve as a comparison, compare the previous freeze-and-train method with the following standard structure:"
   ]
  },
  {
   "cell_type": "code",
   "execution_count": null,
   "metadata": {},
   "outputs": [],
   "source": []
  }
 ],
 "metadata": {
  "kernelspec": {
   "display_name": "Python 3",
   "language": "python",
   "name": "python3"
  },
  "language_info": {
   "codemirror_mode": {
    "name": "ipython",
    "version": 3
   },
   "file_extension": ".py",
   "mimetype": "text/x-python",
   "name": "python",
   "nbconvert_exporter": "python",
   "pygments_lexer": "ipython3",
   "version": "3.8.3"
  }
 },
 "nbformat": 4,
 "nbformat_minor": 4
}
