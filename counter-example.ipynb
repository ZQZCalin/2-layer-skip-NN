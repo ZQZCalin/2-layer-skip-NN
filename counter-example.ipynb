{
 "cells": [
  {
   "cell_type": "code",
   "execution_count": 1,
   "metadata": {},
   "outputs": [],
   "source": [
    "import numpy as np\n",
    "from matplotlib import pyplot as plt\n",
    "import torch\n",
    "from torch import nn, optim, Tensor\n",
    "from torch.utils.data import DataLoader, TensorDataset"
   ]
  },
  {
   "cell_type": "markdown",
   "metadata": {},
   "source": [
    "### 1. Target Function and Data Generation\n",
    "Consider some target function $f:\\mathbb{R}\\to\\mathbb{R}$, and a compact domain $D\\subset \\mathbb{R}$. Let $p_x$ be the uniform distribution over $D$. We then generate data $(x,y)$ such that $x\\sim p_x$ and $y=f(x)$."
   ]
  },
  {
   "cell_type": "code",
   "execution_count": 2,
   "metadata": {},
   "outputs": [
    {
     "data": {
      "image/png": "[encoded data removed]",
      "text/plain": [
       "<Figure size 432x288 with 1 Axes>"
      ]
     },
     "metadata": {
      "needs_background": "light"
     },
     "output_type": "display_data"
    }
   ],
   "source": [
    "# DATA GENERATION\n",
    "\n",
    "# hyperparameters\n",
    "np.random.seed(0)\n",
    "N = 10**4\n",
    "low = -6\n",
    "high = 6\n",
    "params = [0.5, 0, -3.5, -0.5, 1, -3]\n",
    "\n",
    "# define target function\n",
    "def quadratic(x, _params):\n",
    "    [a, b, c] = _params\n",
    "    return (a*x+b)**2 + c\n",
    "\n",
    "def target(x):\n",
    "    [a1, b1, c1, a2, b2, c2] = params\n",
    "    h = quadratic(x, [a1,b1,c1])\n",
    "    return quadratic( h, [a2,b2,c2] ) + h\n",
    "\n",
    "# training data\n",
    "X = np.random.uniform(low, high, N)\n",
    "Y = np.vectorize(target)(X)\n",
    "\n",
    "# transform to tensor and reshape\n",
    "X_tensor = torch.reshape(Tensor(X),(N,1))\n",
    "y_tensor = torch.reshape(Tensor(Y),(N,1))\n",
    "\n",
    "# visualize\n",
    "plt.scatter(X, Y, marker=\".\")\n",
    "plt.show()"
   ]
  },
  {
   "cell_type": "markdown",
   "metadata": {},
   "source": [
    "Some graphical intuitions for hyperparameters:\n",
    "https://www.desmos.com/calculator/pc0szofbfh."
   ]
  },
  {
   "cell_type": "markdown",
   "metadata": {},
   "source": [
    "### 2. Freeze-and-train Model (linear + quadratic + linear per layer)"
   ]
  },
  {
   "cell_type": "code",
   "execution_count": 3,
   "metadata": {},
   "outputs": [],
   "source": [
    "# TRAINING\n",
    "def train_model(model, X, Y, epochs, batch_size, loss_fn, optimizer):\n",
    "    # load data\n",
    "    dataset = TensorDataset(X_tensor, y_tensor)\n",
    "    data_loader = DataLoader(dataset, batch_size=batch_size, shuffle=True)\n",
    "    \n",
    "    # train\n",
    "    for t in range(epochs):\n",
    "        for (i, (X_batch, y_batch)) in enumerate(data_loader):\n",
    "            # forward\n",
    "            pred = model(X_batch.float())\n",
    "            loss = loss_fn(pred, y_batch)\n",
    "\n",
    "            # backward\n",
    "            optimizer.zero_grad()  # clear gradient\n",
    "            loss.backward()\n",
    "            optimizer.step()\n",
    "\n",
    "        if t%10 == 0:\n",
    "            print(f\"\\nEpoch: {t+1:n}\")\n",
    "            print(f\"loss={loss:.3f}\")\n",
    "            print(\"_\"*50)"
   ]
  },
  {
   "cell_type": "code",
   "execution_count": 4,
   "metadata": {},
   "outputs": [],
   "source": [
    "# FIRST LAYER STRUCTURE\n",
    "\n",
    "# nn.Sequential wrapper\n",
    "class Lambda(nn.Module):\n",
    "    \"\"\"\n",
    "    Input: A Function\n",
    "    Returns : A Module that can be used inside nn.Sequential\n",
    "    \"\"\"\n",
    "    def __init__(self, func):\n",
    "        super().__init__()\n",
    "        self.func = func\n",
    "\n",
    "    def forward(self, x): \n",
    "        return self.func(x)\n",
    "    \n",
    "def quad_activation(x):\n",
    "    return x**2\n",
    "\n",
    "# first_layer\n",
    "class first_layer_model(nn.Module):\n",
    "    def __init__(self):\n",
    "        super().__init__()\n",
    "        self.sequential = nn.Sequential(\n",
    "            nn.Linear(1, 1),  # x -> ax+b\n",
    "            Lambda(quad_activation),  # (ax+b)^2\n",
    "            nn.Linear(1, 1),  # k(ax+b)^2+c\n",
    "        )\n",
    "    \n",
    "    def forward(self, x):\n",
    "        return self.sequential(x)"
   ]
  },
  {
   "cell_type": "code",
   "execution_count": 5,
   "metadata": {},
   "outputs": [],
   "source": [
    "# HYPER-PARAMETERS OF TRAINING\n",
    "first_layer = first_layer_model()\n",
    "loss_fn = nn.MSELoss()\n",
    "\n",
    "epochs = 50\n",
    "batch_size = 64"
   ]
  },
  {
   "cell_type": "code",
   "execution_count": 6,
   "metadata": {},
   "outputs": [
    {
     "name": "stdout",
     "output_type": "stream",
     "text": [
      "\n",
      "Epoch: 1\n",
      "loss=2.126\n",
      "__________________________________________________\n",
      "\n",
      "Epoch: 11\n",
      "loss=2.407\n",
      "__________________________________________________\n",
      "\n",
      "Epoch: 21\n",
      "loss=2.875\n",
      "__________________________________________________\n",
      "\n",
      "Epoch: 31\n",
      "loss=2.847\n",
      "__________________________________________________\n",
      "\n",
      "Epoch: 41\n",
      "loss=1.341\n",
      "__________________________________________________\n"
     ]
    }
   ],
   "source": [
    "# TRAIN FIRST LAYER\n",
    "optim1 = optim.Adam(first_layer.parameters())\n",
    "train_model(first_layer, X, Y, epochs, batch_size, loss_fn, optim1)"
   ]
  },
  {
   "cell_type": "code",
   "execution_count": 7,
   "metadata": {},
   "outputs": [],
   "source": [
    "# TEST MODEL\n",
    "def test_model(model):\n",
    "    params = []\n",
    "    for p in model.parameters():\n",
    "        params.append(p.item())\n",
    "    print(params)\n",
    "\n",
    "    y_pred = model(X_tensor)\n",
    "    plt.scatter(X_tensor.detach().numpy(), y_pred.detach().numpy(), color=\"red\")\n",
    "    plt.scatter(X_tensor.detach().numpy(), y_tensor.detach().numpy(), color=\"blue\", marker='.')\n",
    "    plt.show()"
   ]
  },
  {
   "cell_type": "code",
   "execution_count": 8,
   "metadata": {},
   "outputs": [
    {
     "name": "stdout",
     "output_type": "stream",
     "text": [
      "[-0.4540213346481323, 0.027502190321683884, 0.22691059112548828, -0.6668708920478821]\n"
     ]
    },
    {
     "data": {
      "image/png": "[encoded data removed]",
      "text/plain": [
       "<Figure size 432x288 with 1 Axes>"
      ]
     },
     "metadata": {
      "needs_background": "light"
     },
     "output_type": "display_data"
    }
   ],
   "source": [
    "# FIRST LAYLER RESULT\n",
    "first_layer_params = []\n",
    "for p in first_layer.parameters():\n",
    "    first_layer_params.append(p.item())\n",
    "a1,b1,a2,b2 = first_layer_params\n",
    "print(first_layer_params)\n",
    "\n",
    "y_pred = first_layer(X_tensor)\n",
    "plt.scatter(X_tensor.detach().numpy(), y_pred.detach().numpy(), color=\"red\")\n",
    "plt.scatter(X_tensor.detach().numpy(), y_tensor.detach().numpy(), color=\"blue\")\n",
    "plt.show()"
   ]
  },
  {
   "cell_type": "code",
   "execution_count": 9,
   "metadata": {},
   "outputs": [],
   "source": [
    "# SECOND LAYER MODEL\n",
    "def first_layer_predict(x):\n",
    "    return a2*(a1*x+b1)**2 + b2\n",
    "\n",
    "class second_layer_model(nn.Module):\n",
    "    def __init__(self):\n",
    "        super().__init__()\n",
    "        self.sequential = nn.Sequential(\n",
    "            Lambda(first_layer_predict),  # predict a first layer using already trained first-layer model\n",
    "            nn.Linear(1, 1),  # x -> ax+b\n",
    "            Lambda(quad_activation),  # (ax+b)^2\n",
    "            nn.Linear(1, 1),  # k(ax+b)^2+c\n",
    "        )\n",
    "    \n",
    "    def forward(self, x):\n",
    "        return self.sequential(x) + first_layer_predict(x)\n",
    "\n",
    "    "
   ]
  },
  {
   "cell_type": "code",
   "execution_count": 10,
   "metadata": {},
   "outputs": [
    {
     "name": "stdout",
     "output_type": "stream",
     "text": [
      "\n",
      "Epoch: 1\n",
      "loss=2.546\n",
      "__________________________________________________\n",
      "\n",
      "Epoch: 11\n",
      "loss=0.568\n",
      "__________________________________________________\n",
      "\n",
      "Epoch: 21\n",
      "loss=0.061\n",
      "__________________________________________________\n",
      "\n",
      "Epoch: 31\n",
      "loss=0.015\n",
      "__________________________________________________\n",
      "\n",
      "Epoch: 41\n",
      "loss=0.013\n",
      "__________________________________________________\n"
     ]
    }
   ],
   "source": [
    "second_layer = second_layer_model()\n",
    "optim2 = optim.Adam(second_layer.parameters())\n",
    "train_model(second_layer, X, Y, epochs, batch_size, loss_fn, optim2)"
   ]
  },
  {
   "cell_type": "code",
   "execution_count": 11,
   "metadata": {},
   "outputs": [
    {
     "name": "stdout",
     "output_type": "stream",
     "text": [
      "Parameter containing:\n",
      "tensor([[2.1237]], requires_grad=True)\n",
      "Parameter containing:\n",
      "tensor([-0.1241], requires_grad=True)\n",
      "Parameter containing:\n",
      "tensor([[1.5674]], requires_grad=True)\n",
      "Parameter containing:\n",
      "tensor([-2.0060], requires_grad=True)\n"
     ]
    },
    {
     "data": {
      "image/png": "[encoded data removed]",
      "text/plain": [
       "<Figure size 432x288 with 1 Axes>"
      ]
     },
     "metadata": {
      "needs_background": "light"
     },
     "output_type": "display_data"
    }
   ],
   "source": [
    "for p in second_layer.parameters():\n",
    "    print(p)\n",
    "\n",
    "y_pred_final = second_layer(X_tensor)\n",
    "plt.scatter(X_tensor.detach().numpy(), y_pred_final.detach().numpy(), color=\"red\")\n",
    "plt.scatter(X_tensor.detach().numpy(), y_tensor.detach().numpy(), color=\"blue\")\n",
    "plt.show()"
   ]
  },
  {
   "cell_type": "markdown",
   "metadata": {},
   "source": [
    "### 3. Comparison test: complete 2-layer NN\n",
    "To serve as a comparison, compare the previous freeze-and-train method with the following standard structure:"
   ]
  },
  {
   "cell_type": "code",
   "execution_count": 12,
   "metadata": {},
   "outputs": [],
   "source": [
    "# COMPLETE 2 LAYER NETWORK\n",
    "class complete_network_model(nn.Module):\n",
    "    def __init__(self):\n",
    "        super().__init__()\n",
    "        self.sequential = nn.Sequential(\n",
    "            nn.Linear(1, 1),  # x -> ax+b\n",
    "            Lambda(quad_activation),  # (ax+b)^2\n",
    "            nn.Linear(1, 1),  # k(ax+b)^2+c\n",
    "            Lambda(quad_activation),\n",
    "            nn.Linear(1, 1),\n",
    "#             Lambda(quad_activation),\n",
    "#             nn.Linear(1, 1),\n",
    "#             Lambda(quad_activation),\n",
    "#             nn.Linear(1, 1)\n",
    "        )\n",
    "    \n",
    "    def forward(self, x):\n",
    "        return self.sequential(x)"
   ]
  },
  {
   "cell_type": "code",
   "execution_count": 13,
   "metadata": {},
   "outputs": [
    {
     "name": "stdout",
     "output_type": "stream",
     "text": [
      "\n",
      "Epoch: 1\n",
      "loss=4.243\n",
      "__________________________________________________\n",
      "\n",
      "Epoch: 11\n",
      "loss=0.303\n",
      "__________________________________________________\n",
      "\n",
      "Epoch: 21\n",
      "loss=0.016\n",
      "__________________________________________________\n",
      "\n",
      "Epoch: 31\n",
      "loss=0.000\n",
      "__________________________________________________\n",
      "\n",
      "Epoch: 41\n",
      "loss=0.000\n",
      "__________________________________________________\n",
      "[0.4611660838127136, 1.2466796306398464e-07, 0.5949034690856934, -1.7712880373001099, 0.9761061072349548, -1.9999960660934448]\n"
     ]
    },
    {
     "data": {
      "image/png": "[encoded data removed]",
      "text/plain": [
       "<Figure size 432x288 with 1 Axes>"
      ]
     },
     "metadata": {
      "needs_background": "light"
     },
     "output_type": "display_data"
    }
   ],
   "source": [
    "torch.manual_seed(12131)\n",
    "\n",
    "_epochs = 50\n",
    "complete_network = complete_network_model()\n",
    "optim3 = optim.Adam(complete_network.parameters())\n",
    "\n",
    "train_model(complete_network, X, Y, _epochs, batch_size, loss_fn, optim3)\n",
    "test_model(complete_network)"
   ]
  },
  {
   "cell_type": "markdown",
   "metadata": {},
   "source": [
    "#### Caveat:\n",
    "The test result is somehow sensitive to initialization... I tried several standard initializatons, but all of them don't seem good...\n",
    "\n",
    "This becomes a big issue because I don't know whether a poor fit is due to poor initialization or it is an actual counter exmample."
   ]
  },
  {
   "cell_type": "code",
   "execution_count": 14,
   "metadata": {},
   "outputs": [
    {
     "name": "stdout",
     "output_type": "stream",
     "text": [
      "\n",
      "Epoch: 1\n",
      "loss=2.746\n",
      "__________________________________________________\n",
      "\n",
      "Epoch: 11\n",
      "loss=2.210\n",
      "__________________________________________________\n",
      "\n",
      "Epoch: 21\n",
      "loss=4.143\n",
      "__________________________________________________\n",
      "\n",
      "Epoch: 31\n",
      "loss=2.604\n",
      "__________________________________________________\n",
      "\n",
      "Epoch: 41\n",
      "loss=1.814\n",
      "__________________________________________________\n",
      "[0.4047459065914154, -0.033154696226119995, -0.0729142278432846, 1.1152403354644775, -1.345831036567688, 1.1830036640167236]\n"
     ]
    },
    {
     "data": {
      "image/png": "[encoded data removed]",
      "text/plain": [
       "<Figure size 432x288 with 1 Axes>"
      ]
     },
     "metadata": {
      "needs_background": "light"
     },
     "output_type": "display_data"
    }
   ],
   "source": [
    "torch.manual_seed(1)\n",
    "\n",
    "_epochs = 50\n",
    "complete_network = complete_network_model()\n",
    "optim3 = optim.Adam(complete_network.parameters())\n",
    "\n",
    "train_model(complete_network, X, Y, _epochs, batch_size, loss_fn, optim3)\n",
    "test_model(complete_network)"
   ]
  },
  {
   "cell_type": "markdown",
   "metadata": {},
   "source": [
    "### 4. Freeze-and-train with linear+quadratic per layer\n",
    "In order to fit a general quadratic (of form $ax^2+b$), each \"layer\" is actually a linear layer + quadratic activation + another linear layer (to add the constant term). Below is an attempt to see what if we only have a linear layer with a quadratic activation. Now a perfect fit is not guaranteed."
   ]
  },
  {
   "cell_type": "code",
   "execution_count": 15,
   "metadata": {},
   "outputs": [],
   "source": [
    "def black_box(model):\n",
    "    _optim = optim.Adam(model.parameters())\n",
    "    \n",
    "    train_model(model, X, Y, epochs, batch_size, loss_fn, _optim)\n",
    "    test_model(model)"
   ]
  },
  {
   "cell_type": "code",
   "execution_count": 16,
   "metadata": {},
   "outputs": [
    {
     "name": "stdout",
     "output_type": "stream",
     "text": [
      "\n",
      "Epoch: 1\n",
      "loss=1.572\n",
      "__________________________________________________\n",
      "\n",
      "Epoch: 11\n",
      "loss=2.952\n",
      "__________________________________________________\n",
      "\n",
      "Epoch: 21\n",
      "loss=1.950\n",
      "__________________________________________________\n",
      "\n",
      "Epoch: 31\n",
      "loss=2.203\n",
      "__________________________________________________\n",
      "\n",
      "Epoch: 41\n",
      "loss=2.876\n",
      "__________________________________________________\n",
      "[-0.11843807995319366, 0.009718690067529678]\n"
     ]
    },
    {
     "data": {
      "image/png": "[encoded data removed]",
      "text/plain": [
       "<Figure size 432x288 with 1 Axes>"
      ]
     },
     "metadata": {
      "needs_background": "light"
     },
     "output_type": "display_data"
    }
   ],
   "source": [
    "class first_layer_partial(nn.Module):\n",
    "    def __init__(self):\n",
    "        super().__init__()\n",
    "        self.sequential = nn.Sequential(\n",
    "            nn.Linear(1, 1),  # x -> ax+b\n",
    "            Lambda(quad_activation),  # (ax+b)^2\n",
    "        )\n",
    "    \n",
    "    def forward(self, x):\n",
    "        return self.sequential(x)\n",
    "\n",
    "partial_1 = first_layer_partial()\n",
    "black_box(partial_1)"
   ]
  },
  {
   "cell_type": "code",
   "execution_count": 17,
   "metadata": {},
   "outputs": [
    {
     "name": "stdout",
     "output_type": "stream",
     "text": [
      "\n",
      "Epoch: 1\n",
      "loss=3.087\n",
      "__________________________________________________\n",
      "\n",
      "Epoch: 11\n",
      "loss=1.922\n",
      "__________________________________________________\n",
      "\n",
      "Epoch: 21\n",
      "loss=2.009\n",
      "__________________________________________________\n",
      "\n",
      "Epoch: 31\n",
      "loss=2.251\n",
      "__________________________________________________\n",
      "\n",
      "Epoch: 41\n",
      "loss=2.015\n",
      "__________________________________________________\n",
      "[-0.1238870769739151, -0.0003400928108021617, 4.336422920227051, -0.7864648103713989]\n"
     ]
    },
    {
     "data": {
      "image/png": "[encoded data removed]",
      "text/plain": [
       "<Figure size 432x288 with 1 Axes>"
      ]
     },
     "metadata": {
      "needs_background": "light"
     },
     "output_type": "display_data"
    }
   ],
   "source": [
    "class second_layer_partial(nn.Module):\n",
    "    def __init__(self):\n",
    "        super().__init__()\n",
    "        self.sequential = nn.Sequential(\n",
    "            Lambda(partial_1), \n",
    "            nn.Linear(1, 1), \n",
    "            Lambda(quad_activation),\n",
    "        )\n",
    "    \n",
    "    def forward(self, x):\n",
    "        return self.sequential(x) + partial_1(x)\n",
    "\n",
    "partial_2 = second_layer_partial()\n",
    "black_box(partial_2)"
   ]
  },
  {
   "cell_type": "code",
   "execution_count": 18,
   "metadata": {},
   "outputs": [
    {
     "name": "stdout",
     "output_type": "stream",
     "text": [
      "\n",
      "Epoch: 1\n",
      "loss=4.971\n",
      "__________________________________________________\n",
      "\n",
      "Epoch: 11\n",
      "loss=9.426\n",
      "__________________________________________________\n",
      "\n",
      "Epoch: 21\n",
      "loss=10.314\n",
      "__________________________________________________\n",
      "\n",
      "Epoch: 31\n",
      "loss=17.498\n",
      "__________________________________________________\n",
      "\n",
      "Epoch: 41\n",
      "loss=4.911\n",
      "__________________________________________________\n",
      "[0.4627990424633026, -0.01045410055667162, -0.6291389465332031, 1.869508981704712, 0.8362515568733215, -1.8362267017364502]\n"
     ]
    },
    {
     "data": {
      "image/png": "[encoded data removed]",
      "text/plain": [
       "<Figure size 432x288 with 1 Axes>"
      ]
     },
     "metadata": {
      "needs_background": "light"
     },
     "output_type": "display_data"
    }
   ],
   "source": [
    "class complete_model_partial(nn.Module):\n",
    "    def __init__(self):\n",
    "        super().__init__()\n",
    "        self.sequential = nn.Sequential(\n",
    "            nn.Linear(1, 1), \n",
    "            Lambda(quad_activation),\n",
    "            nn.Linear(1, 1),\n",
    "            Lambda(quad_activation),\n",
    "            nn.Linear(1, 1)\n",
    "        )\n",
    "    \n",
    "    def forward(self, x):\n",
    "        skip = self.sequential(x) + nn.Sequential(nn.Linear(1,1))(x)\n",
    "        normal = self.sequential(x)\n",
    "        return skip\n",
    "\n",
    "partial_3 = complete_model_partial()\n",
    "black_box(partial_3)"
   ]
  },
  {
   "cell_type": "markdown",
   "metadata": {},
   "source": [
    "### 5. Unequal Bumps\n",
    "Now we want to test another target function, which is still of W-shape, but has unequal minimums.\n"
   ]
  }
 ],
 "metadata": {
  "kernelspec": {
   "display_name": "Python 3",
   "language": "python",
   "name": "python3"
  },
  "language_info": {
   "codemirror_mode": {
    "name": "ipython",
    "version": 3
   },
   "file_extension": ".py",
   "mimetype": "text/x-python",
   "name": "python",
   "nbconvert_exporter": "python",
   "pygments_lexer": "ipython3",
   "version": "3.8.3"
  }
 },
 "nbformat": 4,
 "nbformat_minor": 4
}
